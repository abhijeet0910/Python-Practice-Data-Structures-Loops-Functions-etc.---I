{
 "cells": [
  {
   "cell_type": "markdown",
   "metadata": {},
   "source": [
    "# Python Practice I"
   ]
  },
  {
   "cell_type": "markdown",
   "metadata": {},
   "source": [
    "Here you can practice various problems with python data structures, conditionals, loops, functions to help you get fluent with python.\n",
    "There will be problems and solutions with a python code."
   ]
  },
  {
   "cell_type": "markdown",
   "metadata": {},
   "source": [
    "# Question 1: \n",
    "Write a Python Function to multiply all the numbers in a list.\n",
    "Sample List : [1,2,5,-4]"
   ]
  },
  {
   "cell_type": "code",
   "execution_count": 2,
   "metadata": {
    "collapsed": true
   },
   "outputs": [],
   "source": [
    "total = 1\n",
    "def mulnumlst(numbers):\n",
    "    global total\n",
    "    for a in numbers:\n",
    "        total = total*a\n",
    "    return total\n",
    "\n",
    "# Indentation has a big role to play in python look at where i have placed \"return\" statement it placed in line with the \n",
    "# for statement so that it gives us the desired result. Had we placed it in line with the \"total\" variable we would have an\n",
    "# answer as \"1\" instead of \"-40\" so always take care of this.\n",
    "\n",
    "# Also a note local and global variable\n",
    "# When Python parses the body of a function definition and encounters an assignment such as \"total = ....\" Python interprets\n",
    "# total as a local variable by default. If we do not wish it to be a local variable we must put (\"global total\") in the function\n",
    "# definition. The global statement does not have to be at the beginning of the function definition, but that is where is usually \n",
    "# placed, the global declaration makes a feed a global variable everywhere in the function, without the global statement \n",
    "# since total is taken to be a local variable when python executes total = total * x.\n",
    "# Python evaluates the right hand side first and tries to look up the value of total.\n",
    "# the first time through it finds \"total\" is undefined. Hence the error."
   ]
  },
  {
   "cell_type": "code",
   "execution_count": 3,
   "metadata": {},
   "outputs": [
    {
     "data": {
      "text/plain": [
       "-40"
      ]
     },
     "execution_count": 3,
     "metadata": {},
     "output_type": "execute_result"
    }
   ],
   "source": [
    "# testing the function \n",
    "mulnumlst([1,2,5,-4])"
   ]
  },
  {
   "cell_type": "code",
   "execution_count": 4,
   "metadata": {
    "collapsed": true
   },
   "outputs": [],
   "source": [
    "# Alternative way\n",
    "def mulnumlst1(numbers):\n",
    "    total = 1\n",
    "    l=[]\n",
    "    for x in numbers:\n",
    "        total = total*x\n",
    "        l.append(total)\n",
    "        print (l)\n",
    "\n",
    "# with this indented print you can see how list is getting updated."
   ]
  },
  {
   "cell_type": "code",
   "execution_count": 5,
   "metadata": {},
   "outputs": [
    {
     "name": "stdout",
     "output_type": "stream",
     "text": [
      "[1]\n",
      "[1, 5]\n",
      "[1, 5, 30]\n",
      "[1, 5, 30, 210]\n"
     ]
    }
   ],
   "source": [
    "mulnumlst1([1,5,6,7]) "
   ]
  },
  {
   "cell_type": "code",
   "execution_count": 6,
   "metadata": {
    "collapsed": true
   },
   "outputs": [],
   "source": [
    "def mulnumlst2(numbers):\n",
    "    total = 1\n",
    "    l=[]\n",
    "    for x in numbers:\n",
    "        total = total*x\n",
    "    l.append(total)\n",
    "    return (l)\n",
    "        "
   ]
  },
  {
   "cell_type": "code",
   "execution_count": 7,
   "metadata": {},
   "outputs": [
    {
     "data": {
      "text/plain": [
       "[180]"
      ]
     },
     "execution_count": 7,
     "metadata": {},
     "output_type": "execute_result"
    }
   ],
   "source": [
    "mulnumlst2([1,5,6,6])  # see the difference it made when we indented the the \"l.append\" in line with the for loop."
   ]
  },
  {
   "cell_type": "code",
   "execution_count": 8,
   "metadata": {
    "collapsed": true
   },
   "outputs": [],
   "source": [
    "def mulnumlst3(numbers):\n",
    "    total = 1\n",
    "    l=[]\n",
    "    for x in numbers:\n",
    "        total = total*x\n",
    "        l.append(total)\n",
    "        return l"
   ]
  },
  {
   "cell_type": "code",
   "execution_count": 10,
   "metadata": {},
   "outputs": [
    {
     "data": {
      "text/plain": [
       "[1]"
      ]
     },
     "execution_count": 10,
     "metadata": {},
     "output_type": "execute_result"
    }
   ],
   "source": [
    "mulnumlst3([1,2,3,4])  # With this output you can understand the indentation of return statement inside the loop"
   ]
  },
  {
   "cell_type": "markdown",
   "metadata": {},
   "source": [
    "# Question 2\n",
    "Given a string, return the count of the number of times that a substring of length 2 (two) appears in the string and also as the last 2 chars of the string, so \"hiXXXXXhi\" yeilds 1 (We wont count the end substring).\n",
    "\n",
    "Let's dissect the problem:\n",
    "\"We will be passing the string for example str = 'abxxxxab' len(str) = 8 so length of the substring needs to be 2 so \"ab\" length 2. Now this \"ab\" is found repeated as it is anywhere in the entire string again, then the count would increase from 0 to 1\" remeber that we need to compare it with last two substring (except that we wont count the last substring)\n"
   ]
  },
  {
   "cell_type": "code",
   "execution_count": 25,
   "metadata": {
    "collapsed": true
   },
   "outputs": [],
   "source": [
    "def last2(str):\n",
    "    if len(str)<2:\n",
    "        return 0\n",
    "\n",
    "# this function is written to screen out any string passed less than length 2 though not necessary ...."
   ]
  },
  {
   "cell_type": "code",
   "execution_count": 26,
   "metadata": {},
   "outputs": [
    {
     "data": {
      "text/plain": [
       "0"
      ]
     },
     "execution_count": 26,
     "metadata": {},
     "output_type": "execute_result"
    }
   ],
   "source": [
    "last2('a')"
   ]
  },
  {
   "cell_type": "code",
   "execution_count": 61,
   "metadata": {
    "collapsed": true
   },
   "outputs": [],
   "source": []
  },
  {
   "cell_type": "code",
   "execution_count": 38,
   "metadata": {
    "collapsed": true
   },
   "outputs": [],
   "source": [
    "def last21(str):\n",
    "    if len(str) < 2:\n",
    "        return 0\n",
    "    last2 = str[len(str)-2:]\n",
    "    count = 0\n",
    "    for i in range(len(str)-2):\n",
    "        sub = str[i:i+2]\n",
    "        if sub == last2:\n",
    "            count = count + 1\n",
    "    return count"
   ]
  },
  {
   "cell_type": "code",
   "execution_count": 60,
   "metadata": {},
   "outputs": [
    {
     "data": {
      "text/plain": [
       "2"
      ]
     },
     "execution_count": 60,
     "metadata": {},
     "output_type": "execute_result"
    }
   ],
   "source": [
    "last21(\"axxxaaxx\") # here is one very interesting example to run with this function\n",
    "# how loop is running here and getting the count 2 \n",
    "# last 2 substring is 'xx' and it is comparing with 'xx'\n",
    "# in first iteration of loop it is comparing with ax so count is 0 next xx so count updates to 1 next iteration it compares again\n",
    "# with xx and count again updates to 2 because there are 3 consecutive x's and how the loop is running.\n"
   ]
  },
  {
   "cell_type": "markdown",
   "metadata": {},
   "source": [
    "# range\n",
    "range(stop) -> range object\n",
    "range(start, stop[, step]) -> range object\n",
    "\n",
    "Return an object that produces a sequence of integers from start (inclusive)\n",
    "to stop (exclusive) by step.  range(i, j) produces i, i+1, i+2, ..., j-1.\n",
    "start defaults to 0, and stop is omitted!  range(4) produces 0, 1, 2, 3.\n",
    "These are exactly the valid indices for a list of 4 elements.\n",
    "When step is given, it specifies the increment (or decrement).\n",
    "\n",
    "# to see what a built in function does press shift + tab"
   ]
  },
  {
   "cell_type": "code",
   "execution_count": 52,
   "metadata": {
    "collapsed": true
   },
   "outputs": [],
   "source": [
    "a = (\"axxxaaxx\")"
   ]
  },
  {
   "cell_type": "code",
   "execution_count": 53,
   "metadata": {},
   "outputs": [
    {
     "data": {
      "text/plain": [
       "8"
      ]
     },
     "execution_count": 53,
     "metadata": {},
     "output_type": "execute_result"
    }
   ],
   "source": [
    "len(a)"
   ]
  },
  {
   "cell_type": "code",
   "execution_count": 54,
   "metadata": {
    "collapsed": true
   },
   "outputs": [],
   "source": [
    "p = len(a)-2"
   ]
  },
  {
   "cell_type": "code",
   "execution_count": 55,
   "metadata": {},
   "outputs": [
    {
     "data": {
      "text/plain": [
       "6"
      ]
     },
     "execution_count": 55,
     "metadata": {},
     "output_type": "execute_result"
    }
   ],
   "source": [
    "p"
   ]
  },
  {
   "cell_type": "code",
   "execution_count": 59,
   "metadata": {},
   "outputs": [
    {
     "data": {
      "text/plain": [
       "'xx'"
      ]
     },
     "execution_count": 59,
     "metadata": {},
     "output_type": "execute_result"
    }
   ],
   "source": [
    "a[len(a)-2:]"
   ]
  },
  {
   "cell_type": "markdown",
   "metadata": {},
   "source": [
    "# Question 3 \n",
    "\n",
    "Given a string, return a string where for every 'char' in the original. There are two chars.\n",
    "so when you pass \"put\" it should return \"ppuutt\"."
   ]
  },
  {
   "cell_type": "code",
   "execution_count": 3,
   "metadata": {
    "collapsed": true
   },
   "outputs": [],
   "source": [
    "def doubstr(str):\n",
    "    str1 =''\n",
    "    for i in str:\n",
    "        str1 += i*2\n",
    "    return str1"
   ]
  },
  {
   "cell_type": "code",
   "execution_count": 4,
   "metadata": {},
   "outputs": [
    {
     "data": {
      "text/plain": [
       "'tthhee'"
      ]
     },
     "execution_count": 4,
     "metadata": {},
     "output_type": "execute_result"
    }
   ],
   "source": [
    "doubstr(\"the\")"
   ]
  },
  {
   "cell_type": "code",
   "execution_count": 6,
   "metadata": {},
   "outputs": [],
   "source": [
    "a = 't'+'t'"
   ]
  },
  {
   "cell_type": "code",
   "execution_count": 7,
   "metadata": {},
   "outputs": [
    {
     "data": {
      "text/plain": [
       "'tt'"
      ]
     },
     "execution_count": 7,
     "metadata": {},
     "output_type": "execute_result"
    }
   ],
   "source": [
    "a\n"
   ]
  },
  {
   "cell_type": "code",
   "execution_count": 8,
   "metadata": {
    "collapsed": true
   },
   "outputs": [],
   "source": [
    "# by the above solution we must have understood the logic and little example above to show string concatenation in python \n",
    "# to make us understand the \"str1 += \" it is actually str = srt1 = str1+ i*2"
   ]
  },
  {
   "cell_type": "code",
   "execution_count": 15,
   "metadata": {
    "collapsed": true
   },
   "outputs": [],
   "source": [
    "def double_char(str):\n",
    "    result = ''\n",
    "    for i in range(len(str)):\n",
    "        result += str[i]+str[i]\n",
    "    return result"
   ]
  },
  {
   "cell_type": "code",
   "execution_count": 16,
   "metadata": {},
   "outputs": [
    {
     "data": {
      "text/plain": [
       "'tthhee'"
      ]
     },
     "execution_count": 16,
     "metadata": {},
     "output_type": "execute_result"
    }
   ],
   "source": [
    "double_char(\"the\")"
   ]
  },
  {
   "cell_type": "code",
   "execution_count": 17,
   "metadata": {
    "collapsed": true
   },
   "outputs": [],
   "source": [
    "# In the above solution we have used indexing to arrive at our desired solution."
   ]
  },
  {
   "cell_type": "markdown",
   "metadata": {},
   "source": [
    "# Question 3 \n",
    "Return a number of times the string \"hi\" appears anywhere in the given string."
   ]
  },
  {
   "cell_type": "code",
   "execution_count": 20,
   "metadata": {
    "collapsed": true
   },
   "outputs": [],
   "source": [
    "# problem is self explanatory. So let us proceed to the solution.\n",
    "def findhi(str):\n",
    "    count = 0\n",
    "    for i in range(len(str)-1):\n",
    "        if str[i:i+2:]==\"hi\":\n",
    "            count+= 1\n",
    "    return count"
   ]
  },
  {
   "cell_type": "code",
   "execution_count": 21,
   "metadata": {},
   "outputs": [
    {
     "data": {
      "text/plain": [
       "3"
      ]
     },
     "execution_count": 21,
     "metadata": {},
     "output_type": "execute_result"
    }
   ],
   "source": [
    "findhi(\"hiihiiiihhhi\")"
   ]
  },
  {
   "cell_type": "code",
   "execution_count": 23,
   "metadata": {},
   "outputs": [],
   "source": [
    "# We can also do it another way\n",
    "def findhi1(str):\n",
    "    count = 0\n",
    "    for i in range(len(str)-1):\n",
    "        if str[i]=='h' and str[i+1]=='i':\n",
    "            count += 1\n",
    "    return count"
   ]
  },
  {
   "cell_type": "code",
   "execution_count": 26,
   "metadata": {},
   "outputs": [
    {
     "data": {
      "text/plain": [
       "4"
      ]
     },
     "execution_count": 26,
     "metadata": {},
     "output_type": "execute_result"
    }
   ],
   "source": [
    "findhi1(\"hiihiiiihhhiihi\")"
   ]
  },
  {
   "cell_type": "markdown",
   "metadata": {},
   "source": [
    "# Question 4\n",
    "Return true if the string \"cat\" and \"dog\" appear the same number of times in the given string.\n"
   ]
  },
  {
   "cell_type": "code",
   "execution_count": 36,
   "metadata": {},
   "outputs": [],
   "source": [
    "def countdg_ct(str):\n",
    "    countd = 0\n",
    "    countc = 0\n",
    "    for i in range(len(str)-1):\n",
    "        if str[i:i+3:]=='dog':\n",
    "            countd+=1\n",
    "        elif str[i:i+3:]=='cat':\n",
    "            countc+=1\n",
    "    return  countd == countc"
   ]
  },
  {
   "cell_type": "code",
   "execution_count": 39,
   "metadata": {},
   "outputs": [
    {
     "data": {
      "text/plain": [
       "False"
      ]
     },
     "execution_count": 39,
     "metadata": {},
     "output_type": "execute_result"
    }
   ],
   "source": [
    "countdg_ct('dogfgcbcatdcatdgotdogcat')"
   ]
  },
  {
   "cell_type": "code",
   "execution_count": null,
   "metadata": {
    "collapsed": true
   },
   "outputs": [],
   "source": []
  }
 ],
 "metadata": {
  "kernelspec": {
   "display_name": "Python 3",
   "language": "python",
   "name": "python3"
  },
  "language_info": {
   "codemirror_mode": {
    "name": "ipython",
    "version": 3
   },
   "file_extension": ".py",
   "mimetype": "text/x-python",
   "name": "python",
   "nbconvert_exporter": "python",
   "pygments_lexer": "ipython3",
   "version": "3.6.1"
  }
 },
 "nbformat": 4,
 "nbformat_minor": 2
}
