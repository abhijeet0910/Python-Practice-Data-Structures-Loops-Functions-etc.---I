{
 "cells": [
  {
   "cell_type": "markdown",
   "metadata": {},
   "source": [
    "# WHILE LOOP IN PYTHON AND WHY NO \"DO-WHILE\"\n",
    "First about while loop\n",
    "We already know this that Loops are used in programming,when you need to perform a task more than once. \n",
    "To perform this task python has WHILE and FOR loops( While loop like for loop are used for iteration).\n",
    "\n",
    "Focussing on While Loop in Python \n",
    "The while statement in Python is one of most general ways to perform iteration. \n",
    "A while statement will repeatedly execute a single statement or group of statements as long as the condition is true.\n",
    "The reason it is called a 'loop' is because the code statements are looped through over and over again until the condition is no longer met\n",
    "\n",
    "The general format of the while loop in python is\n",
    "\n",
    "\n",
    "while test:\n",
    "    code statement\n",
    "    \n",
    "else:\n",
    "    final code statements\n",
    "    \n",
    "In General While loops are known as indefinite or conditional loops. They will keep iterating until certain conditions are met. \n",
    "There is no guarantee ahead of time regarding how many times the loop will iterate.\n",
    "The while loop, like the if statement, includes a boolean expression that evaluates to true or false. \n",
    "The code inside the loop will be repeatedly executed until the boolean expression is no longer true.\n",
    "    \n",
    "\n",
    "# Intuitive Understanding of Loop\n",
    "Loop, as the name suggests is the process that get repeated again and again.\n",
    "It generally ends when some condition is met.\n",
    "Let us suppose you have to fill a bucket with water.\n",
    "You will pour a mug of water into the bucket(Initialization).\n",
    "Then check if the bucket is full or not(Checking Condition) and then repeat the process until the bucket is full(Termination).\n",
    "This is loop in simple terms.\n",
    "    \n"
   ]
  },
  {
   "cell_type": "code",
   "execution_count": null,
   "metadata": {
    "collapsed": true
   },
   "outputs": [],
   "source": [
    "#Let us look at one very basic example of while loop to understand how it works.\n",
    "\n",
    "x = 0 #Initialization: This includes declaring a variable and assigning it a value.\n",
    "\n",
    "while x<10: # Condition: This includes determining a condition and the loop will be executed as long as the condition holds true.\n",
    "    print ((\"the current value of the x as loop runs\"), x) # task \n",
    "    x +=1 #Updation: This includes updating the current value of our initialized variable. \n",
    "    #This is done to set a limit to the number of times a loop will be executed."
   ]
  },
  {
   "cell_type": "markdown",
   "metadata": {},
   "source": [
    "we initialized the value of X to 0 and set a condition in while loop which is that loop should run until x is less than 10\n",
    "the minute it reaches to 10 it will terminate and while it is looping to those values of x we want it to perform \n",
    "task of printing the current value of x as it loops \n",
    "the most important thing here is the updation x +=1. If we do not do this loop will go into infite loop, this is very important."
   ]
  },
  {
   "cell_type": "markdown",
   "metadata": {},
   "source": [
    "# Having understood a fair bit let us solve some questions"
   ]
  },
  {
   "cell_type": "markdown",
   "metadata": {},
   "source": [
    "# Question 1 \n",
    "Program to add natural numbers upto n.Take input from the user."
   ]
  },
  {
   "cell_type": "code",
   "execution_count": 5,
   "metadata": {},
   "outputs": [
    {
     "name": "stdout",
     "output_type": "stream",
     "text": [
      "Enter the number 'n'\n",
      "4\n",
      "The sum is 10\n"
     ]
    }
   ],
   "source": [
    "#Answer:\n",
    "\n",
    "print (\"Enter the number 'n'\")\n",
    "\n",
    "n = int(input())\n",
    "sum = 0\n",
    "x = 1                          # we can initialize the x with 0 or 1 initializing with 0 doesn't make sense here.\n",
    "while x <= n:\n",
    "    sum = sum + x\n",
    "    x = x+1\n",
    "print (\"The sum is\", sum)\n"
   ]
  },
  {
   "cell_type": "markdown",
   "metadata": {
    "collapsed": true
   },
   "source": [
    "# Question 2\n",
    "Write a Python Program to generate the Fibonacci sequence.\n"
   ]
  },
  {
   "cell_type": "markdown",
   "metadata": {
    "collapsed": true
   },
   "source": [
    "first of all we need to know about fibonacci sequence.\n",
    "In fibonacci sequence the first two terms are \"0\" and \"1\" and rest of the terms are calculated by adding the term \n",
    "with its previous term so the third term is the addition of 0 and 1 which 1 now the fourth term is addition of 1 and 1 which is \n",
    "2 fifth term is the addition of 1 and 2 that is 3 and sixth term is the addition of 2 and 3 which is 5 and so on...."
   ]
  },
  {
   "cell_type": "code",
   "execution_count": 18,
   "metadata": {},
   "outputs": [
    {
     "name": "stdout",
     "output_type": "stream",
     "text": [
      "Enter the number of terms:\n",
      "5\n",
      "0 , 1 , 89 , 89 , 89 , "
     ]
    }
   ],
   "source": [
    "print(\"Enter the number of terms:\" '')\n",
    "n = int(input())\n",
    "\n",
    "# We have to set the two terms 0 and 1 \n",
    "n1 = 0\n",
    "n2 = 1\n",
    "count = 0\n",
    "\n",
    "# Now we have to check whether valid \"n\" (no. of terms) is  entered.\n",
    "if n <= 0:\n",
    "    print (\"please enter a positive integer as n\")\n",
    "elif n == 1:\n",
    "    print (\"fibonacci sequence upto n is:\")\n",
    "    print (n1)\n",
    "else:\n",
    "    while count < n:\n",
    "        print(n1,end=' , ')\n",
    "        nth = n1 + n2\n",
    "        # update values\n",
    "        n1 = n2\n",
    "        n2 = nth\n",
    "        count += 1"
   ]
  },
  {
   "cell_type": "code",
   "execution_count": 26,
   "metadata": {},
   "outputs": [
    {
     "name": "stdout",
     "output_type": "stream",
     "text": [
      "Enter the number n\n",
      "5\n",
      "0,1,1,2,3,"
     ]
    }
   ],
   "source": [
    "print(\"Enter the number n\")\n",
    "n = int(input())\n",
    "first = 0\n",
    "previous= 1 \n",
    "count = 0\n",
    "if n<=0:\n",
    "    print (\"Enter a positive number\")\n",
    "elif n==1:\n",
    "    print (firstnum)\n",
    "else:\n",
    "    while count<n:\n",
    "        print (first,end=',')\n",
    "        present = first+ previous\n",
    "        first = previous\n",
    "        previous = present\n",
    "        count +=1\n",
    "    "
   ]
  },
  {
   "cell_type": "code",
   "execution_count": 31,
   "metadata": {
    "collapsed": true
   },
   "outputs": [],
   "source": [
    "def fibonacci(n):\n",
    "    a=0\n",
    "    b=1\n",
    "    count = 1\n",
    "    for i in range(0,n):\n",
    "        c = a+b\n",
    "        a=b\n",
    "        b=c\n",
    "        count+=1\n",
    "        print(a,end=',')\n",
    "    "
   ]
  },
  {
   "cell_type": "code",
   "execution_count": 35,
   "metadata": {},
   "outputs": [
    {
     "name": "stdout",
     "output_type": "stream",
     "text": [
      "1,1,2,3,5,8,13,21,34,55,89,144,233,377,610,987,1597,2584,4181,6765,"
     ]
    }
   ],
   "source": [
    "fibonacci(20)"
   ]
  },
  {
   "cell_type": "markdown",
   "metadata": {
    "collapsed": true
   },
   "source": [
    "# Question 3\n",
    "write a python program to check the Armstrong number\n"
   ]
  },
  {
   "cell_type": "markdown",
   "metadata": {},
   "source": [
    "first let us understand what is an armstrong number\n",
    "A positive integer is called an Armstrong number of order n if\n",
    "\n",
    "abcd.... = an + bn + cn + dn + ...\n",
    "example 153 = 1*1*1 + 5*5*5 + 3*3*3\n",
    "        153 =  1 + 125 + 27 \n",
    "so if there is 3 digit number we will take the cube of each digit and add them after taking the cube and see if \n",
    "it matches the original number if it matches it is an armstrong number.\n",
    "similary for 4 digit number we will compute each digit to the power of four and add them to see if matches the orginal number i.e.\n",
    "the four digit number.\n",
    "1634 = (1)^4 + (6)^4 + (3)^4 + (4)^4\n",
    "1634 = 1 + 1296 + 81 + 256"
   ]
  },
  {
   "cell_type": "code",
   "execution_count": 4,
   "metadata": {},
   "outputs": [
    {
     "data": {
      "text/plain": [
       "1634"
      ]
     },
     "execution_count": 4,
     "metadata": {},
     "output_type": "execute_result"
    }
   ],
   "source": []
  },
  {
   "cell_type": "code",
   "execution_count": 5,
   "metadata": {
    "collapsed": true
   },
   "outputs": [],
   "source": [
    "a = \" this is strin \\n and i am fed up\""
   ]
  },
  {
   "cell_type": "code",
   "execution_count": 7,
   "metadata": {},
   "outputs": [
    {
     "name": "stdout",
     "output_type": "stream",
     "text": [
      " this is strin \n",
      " and i am fed up\n"
     ]
    }
   ],
   "source": [
    "print (a)"
   ]
  },
  {
   "cell_type": "code",
   "execution_count": null,
   "metadata": {
    "collapsed": true
   },
   "outputs": [],
   "source": []
  }
 ],
 "metadata": {
  "kernelspec": {
   "display_name": "Python 3",
   "language": "python",
   "name": "python3"
  },
  "language_info": {
   "codemirror_mode": {
    "name": "ipython",
    "version": 3
   },
   "file_extension": ".py",
   "mimetype": "text/x-python",
   "name": "python",
   "nbconvert_exporter": "python",
   "pygments_lexer": "ipython3",
   "version": "3.6.1"
  }
 },
 "nbformat": 4,
 "nbformat_minor": 2
}
